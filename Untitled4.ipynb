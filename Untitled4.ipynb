{
  "nbformat": 4,
  "nbformat_minor": 0,
  "metadata": {
    "colab": {
      "name": "Untitled4.ipynb",
      "provenance": [],
      "authorship_tag": "ABX9TyMDYjZ9RmDn3DNRhpXMZM1V",
      "include_colab_link": true
    },
    "kernelspec": {
      "name": "python3",
      "display_name": "Python 3"
    }
  },
  "cells": [
    {
      "cell_type": "markdown",
      "metadata": {
        "id": "view-in-github",
        "colab_type": "text"
      },
      "source": [
        "<a href=\"https://colab.research.google.com/github/amrutheswari/Assignment-6/blob/master/Untitled4.ipynb\" target=\"_parent\"><img src=\"https://colab.research.google.com/assets/colab-badge.svg\" alt=\"Open In Colab\"/></a>"
      ]
    },
    {
      "cell_type": "code",
      "metadata": {
        "id": "6bc9NiBqK9x2",
        "colab_type": "code",
        "colab": {
          "base_uri": "https://localhost:8080/",
          "height": 50
        },
        "outputId": "b981f4eb-1a03-44cb-de61-f9b02b3f16a5"
      },
      "source": [
        "#Convert Binary number to decimal\n",
        "b_num=list(input(\"Input a binary number: \"))\n",
        "value = 0\n",
        "for i in range(len(b_num)):\n",
        "    digit = b_num.pop()\n",
        "    if digit == '1':\n",
        "        value = value + pow(2, i)\n",
        "print(\"The decimal value of the number is\",value)"
      ],
      "execution_count": 1,
      "outputs": [
        {
          "output_type": "stream",
          "text": [
            "Input a binary number: 254\n",
            "The decimal value of the number is 0\n"
          ],
          "name": "stdout"
        }
      ]
    },
    {
      "cell_type": "code",
      "metadata": {
        "id": "axwZR31LLE8v",
        "colab_type": "code",
        "colab": {
          "base_uri": "https://localhost:8080/",
          "height": 67
        },
        "outputId": "60722a78-8e14-48f0-8ea0-1c473cb40735"
      },
      "source": [
        "#Generate first N number of Fibonacci numbers. Take N value from user\n",
        "n = int(input(\"Enter the value of 'n': \"))\n",
        "a=0\n",
        "b=1\n",
        "print(\"Fibonacci Series:\")\n",
        "for i in range(1,n+1):\n",
        "  print(a,end='\\t')\n",
        "  c=a+b\n",
        "  a=b\n",
        "  b=c"
      ],
      "execution_count": 2,
      "outputs": [
        {
          "output_type": "stream",
          "text": [
            "Enter the value of 'n': 9\n",
            "Fibonacci Series:\n",
            "0\t1\t1\t2\t3\t5\t8\t13\t21\t"
          ],
          "name": "stdout"
        }
      ]
    },
    {
      "cell_type": "code",
      "metadata": {
        "id": "zDySfxFMLLCA",
        "colab_type": "code",
        "colab": {
          "base_uri": "https://localhost:8080/",
          "height": 202
        },
        "outputId": "3d5ce536-3e21-484d-b582-b42e9b23362b"
      },
      "source": [
        "#Display multiplication table of K. Take k value from user\n",
        "num = int(input(\"Enter a number:\"))\n",
        "for i in range(1, 11):\n",
        "   print(num, 'x', i, '=', num*i)"
      ],
      "execution_count": 4,
      "outputs": [
        {
          "output_type": "stream",
          "text": [
            "Enter a number:55\n",
            "55 x 1 = 55\n",
            "55 x 2 = 110\n",
            "55 x 3 = 165\n",
            "55 x 4 = 220\n",
            "55 x 5 = 275\n",
            "55 x 6 = 330\n",
            "55 x 7 = 385\n",
            "55 x 8 = 440\n",
            "55 x 9 = 495\n",
            "55 x 10 = 550\n"
          ],
          "name": "stdout"
        }
      ]
    },
    {
      "cell_type": "code",
      "metadata": {
        "id": "19ad2TRXLQlI",
        "colab_type": "code",
        "colab": {
          "base_uri": "https://localhost:8080/",
          "height": 370
        },
        "outputId": "626a7edc-973f-4a79-b02f-d6aaf9ca0753"
      },
      "source": [
        "#Take 10 integers from keyboard using loop and print their average value on the screen and print the pattern using loop\n",
        "l1=[]\n",
        "for i in range(0,10):\n",
        "    x=int(input(\"Enter number:\"))\n",
        "    l1.append(x)\n",
        "suml=sum(l1)/10\n",
        "print(\"average=\",suml)\n",
        "for j in range(5):\n",
        "    for k in range(j):\n",
        "        print(\"*\",end=' ')\n",
        "    print('\\n')"
      ],
      "execution_count": 6,
      "outputs": [
        {
          "output_type": "stream",
          "text": [
            "Enter number:1\n",
            "Enter number:2\n",
            "Enter number:3\n",
            "Enter number:4\n",
            "Enter number:5\n",
            "Enter number:6\n",
            "Enter number:7\n",
            "Enter number:8\n",
            "Enter number:9\n",
            "Enter number:10\n",
            "average= 5.5\n",
            "\n",
            "\n",
            "* \n",
            "\n",
            "* * \n",
            "\n",
            "* * * \n",
            "\n",
            "* * * * \n",
            "\n"
          ],
          "name": "stdout"
        }
      ]
    }
  ]
}